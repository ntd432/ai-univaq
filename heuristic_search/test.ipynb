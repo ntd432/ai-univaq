{
 "cells": [
  {
   "cell_type": "code",
   "execution_count": 145,
   "metadata": {},
   "outputs": [],
   "source": [
    "from agent import Agent\n",
    "from game import Game\n",
    "import random, time\n",
    "import matplotlib.pyplot as plt"
   ]
  },
  {
   "cell_type": "markdown",
   "metadata": {},
   "source": [
    "## **Generate maps and initiate agent**"
   ]
  },
  {
   "cell_type": "code",
   "execution_count": 146,
   "metadata": {},
   "outputs": [],
   "source": [
    "MAP_SIZE = 10\n",
    "NUM_OF_SAMPLES = 10\n",
    "PERCENTAGE = [10, 20, 30, 40, 50]\n",
    "game_list = {}\n",
    "for percentage in PERCENTAGE:\n",
    "    games = []\n",
    "    for i in range(NUM_OF_SAMPLES):\n",
    "        random.seed(str(percentage) + str(i))\n",
    "        game = Game(MAP_SIZE)\n",
    "        game.generate_obstacles(int(percentage / 100 * MAP_SIZE * MAP_SIZE))\n",
    "        games.append(game)\n",
    "    game_list[percentage] = games"
   ]
  },
  {
   "cell_type": "code",
   "execution_count": 147,
   "metadata": {},
   "outputs": [
    {
     "name": "stdout",
     "output_type": "stream",
     "text": [
      "--------------------------------\n",
      "| S  |  -  -  -  -  -  -  |  | |\n",
      "| -  |  -  -  |  -  -  -  -  - |\n",
      "| -  -  -  -  -  |  -  -  |  | |\n",
      "| |  -  -  -  -  |  -  -  |  - |\n",
      "| -  |  -  -  -  |  -  |  -  | |\n",
      "| -  -  -  -  -  -  |  -  -  - |\n",
      "| -  -  -  |  -  |  |  -  |  - |\n",
      "| -  -  -  -  |  |  -  -  -  | |\n",
      "| |  -  |  -  -  -  -  |  -  - |\n",
      "| -  -  -  |  |  |  -  -  |  E |\n",
      "--------------------------------\n",
      "--------------------------------\n",
      "| S  -  -  -  -  -  -  -  -  | |\n",
      "| -  -  -  -  -  |  -  -  -  - |\n",
      "| -  |  -  -  -  -  -  |  -  - |\n",
      "| -  -  -  -  -  -  -  -  |  - |\n",
      "| -  -  -  -  -  |  |  |  -  - |\n",
      "| |  -  |  -  -  -  |  |  -  | |\n",
      "| -  -  |  -  -  -  -  |  -  - |\n",
      "| -  -  -  -  -  |  -  -  -  - |\n",
      "| -  -  -  |  -  -  |  -  |  - |\n",
      "| -  -  -  |  -  -  -  -  -  E |\n",
      "--------------------------------\n",
      "--------------------------------\n",
      "| S  |  |  -  |  -  -  |  -  | |\n",
      "| -  -  -  -  |  -  |  -  |  | |\n",
      "| -  -  -  |  -  |  -  |  |  - |\n",
      "| |  -  |  |  -  -  -  -  |  | |\n",
      "| |  -  |  |  |  |  |  -  -  | |\n",
      "| -  -  |  |  -  -  -  |  |  - |\n",
      "| |  -  -  -  |  -  -  -  -  - |\n",
      "| |  |  |  -  -  -  |  |  |  | |\n",
      "| -  -  |  |  |  -  -  |  |  | |\n",
      "| |  |  |  |  |  |  -  -  -  E |\n",
      "--------------------------------\n",
      "--------------------------------\n",
      "| S  -  -  -  |  |  -  |  |  - |\n",
      "| -  -  -  |  -  -  |  |  -  - |\n",
      "| -  -  -  |  |  -  |  -  |  | |\n",
      "| -  |  -  -  |  |  |  |  |  | |\n",
      "| |  -  -  -  -  -  -  -  |  - |\n",
      "| -  |  -  -  -  |  -  |  -  | |\n",
      "| |  -  |  |  -  -  |  -  -  - |\n",
      "| -  -  -  |  |  -  -  -  |  - |\n",
      "| |  -  -  |  -  -  -  |  |  - |\n",
      "| -  |  -  -  |  -  |  |  -  E |\n",
      "--------------------------------\n",
      "--------------------------------\n",
      "| S  |  -  |  |  |  |  |  -  | |\n",
      "| -  |  |  |  |  -  -  |  |  - |\n",
      "| -  |  |  -  -  -  |  |  -  - |\n",
      "| -  -  -  -  |  |  |  -  |  | |\n",
      "| |  -  -  |  -  -  -  |  -  - |\n",
      "| -  -  -  -  -  -  -  -  |  | |\n",
      "| |  |  -  |  |  -  |  -  -  | |\n",
      "| |  |  -  |  -  |  |  |  -  - |\n",
      "| |  |  -  |  |  -  -  |  -  | |\n",
      "| -  |  -  |  |  |  -  |  -  E |\n",
      "--------------------------------\n"
     ]
    }
   ],
   "source": [
    "NUM_OF_VISUALIZE = 5\n",
    "visualize_samples = []\n",
    "sample_set = set()\n",
    "while len(visualize_samples) < NUM_OF_VISUALIZE:\n",
    "    percentage_index, index = 0, 0\n",
    "    while True:\n",
    "        percentage_index = random.randint(0, len(PERCENTAGE) - 1)\n",
    "        index = random.randint(0, NUM_OF_SAMPLES - 1)\n",
    "        if (percentage_index, index) not in sample_set:\n",
    "            sample_set.add((percentage_index, index))\n",
    "            break\n",
    "    visualize_samples.append(game_list[PERCENTAGE[percentage_index]][index])\n",
    "for sample in visualize_samples:\n",
    "    sample.visualize()"
   ]
  },
  {
   "cell_type": "code",
   "execution_count": 148,
   "metadata": {},
   "outputs": [],
   "source": [
    "agent = Agent()"
   ]
  },
  {
   "cell_type": "markdown",
   "metadata": {},
   "source": [
    "## **Solve by breadth-first search**"
   ]
  },
  {
   "cell_type": "code",
   "execution_count": 149,
   "metadata": {},
   "outputs": [],
   "source": [
    "breadth_first_search_time = {}\n",
    "breadth_first_search_length = {}\n",
    "breadth_first_search_solution = {}\n",
    "for percentage in PERCENTAGE:\n",
    "    breadth_first_search_time[percentage] = []\n",
    "    breadth_first_search_length[percentage] = []\n",
    "    breadth_first_search_solution[percentage] = []"
   ]
  },
  {
   "cell_type": "code",
   "execution_count": 150,
   "metadata": {},
   "outputs": [],
   "source": [
    "for percentage in PERCENTAGE:\n",
    "    games = game_list[percentage]\n",
    "    for test in games:\n",
    "        agent.reset_solution()\n",
    "        test.reset_board()\n",
    "        start_time = time.time()\n",
    "        agent.bfs(test)\n",
    "        breadth_first_search_time[percentage].append(time.time() - start_time)\n",
    "        breadth_first_search_length[percentage].append(len(agent.solution) - 1)\n",
    "        breadth_first_search_solution[percentage].append(agent.solution)"
   ]
  },
  {
   "cell_type": "code",
   "execution_count": 151,
   "metadata": {},
   "outputs": [
    {
     "name": "stdout",
     "output_type": "stream",
     "text": [
      "--------------------------------\n",
      "| S  .  .  |  |  |  |  -  |  - |\n",
      "| -  |  .  .  |  -  -  -  |  | |\n",
      "| |  |  -  .  .  .  .  .  |  | |\n",
      "| |  |  |  -  -  |  -  .  .  | |\n",
      "| -  |  |  -  |  -  -  |  .  - |\n",
      "| -  -  -  -  -  |  |  |  .  | |\n",
      "| |  |  -  -  |  |  -  |  .  | |\n",
      "| -  |  |  |  |  |  |  |  .  | |\n",
      "| |  |  -  |  -  |  -  |  .  . |\n",
      "| |  -  -  |  |  -  |  -  |  E |\n",
      "--------------------------------\n",
      "--------------------------------\n",
      "| S  .  -  |  -  |  |  -  |  - |\n",
      "| |  .  -  -  -  |  |  |  -  - |\n",
      "| -  .  -  |  |  -  -  -  -  - |\n",
      "| -  .  |  -  -  |  .  .  .  . |\n",
      "| |  .  .  .  .  .  .  |  -  . |\n",
      "| -  -  -  |  -  -  |  |  -  . |\n",
      "| -  -  -  -  -  |  |  -  -  . |\n",
      "| -  -  |  -  -  |  -  -  -  . |\n",
      "| -  |  |  -  |  |  -  |  |  . |\n",
      "| |  -  -  -  -  -  |  -  |  E |\n",
      "--------------------------------\n",
      "--------------------------------\n",
      "| S  .  |  -  |  |  -  -  |  - |\n",
      "| -  .  .  -  |  -  |  -  |  | |\n",
      "| |  |  .  |  |  |  |  |  |  | |\n",
      "| |  -  .  .  .  .  -  -  -  | |\n",
      "| |  -  -  |  |  .  -  -  -  | |\n",
      "| |  |  -  -  -  .  |  -  -  - |\n",
      "| |  -  -  |  -  .  |  |  |  - |\n",
      "| -  -  -  -  -  .  .  .  |  | |\n",
      "| |  |  -  |  -  |  -  .  .  . |\n",
      "| -  |  |  -  -  -  |  -  -  E |\n",
      "--------------------------------\n",
      "--------------------------------\n",
      "| S  .  .  |  -  |  -  -  |  | |\n",
      "| |  |  .  -  |  -  |  |  -  - |\n",
      "| |  -  .  -  -  |  -  |  -  | |\n",
      "| -  |  .  |  |  .  .  .  |  | |\n",
      "| -  -  .  .  .  .  |  .  |  | |\n",
      "| |  -  -  -  -  |  -  .  |  - |\n",
      "| |  |  |  |  |  -  .  .  -  - |\n",
      "| -  -  -  -  -  |  .  |  |  | |\n",
      "| -  |  -  |  |  -  .  |  -  - |\n",
      "| |  -  |  -  -  |  .  .  .  E |\n",
      "--------------------------------\n",
      "--------------------------------\n",
      "| S  |  |  -  -  -  -  |  |  - |\n",
      "| .  .  .  .  -  -  |  -  |  | |\n",
      "| -  |  |  .  |  |  |  -  -  | |\n",
      "| -  |  |  .  |  |  |  |  |  - |\n",
      "| -  -  -  .  |  |  |  |  |  | |\n",
      "| -  -  |  .  |  |  -  -  -  - |\n",
      "| |  |  |  .  .  |  -  |  |  | |\n",
      "| |  -  |  -  .  .  .  .  .  | |\n",
      "| -  |  |  -  |  -  -  -  .  | |\n",
      "| |  |  |  -  |  |  |  |  .  E |\n",
      "--------------------------------\n"
     ]
    }
   ],
   "source": [
    "visualize_samples = []\n",
    "sample_set = set()\n",
    "while len(visualize_samples) < NUM_OF_VISUALIZE:\n",
    "    percentage_index, index = 0, 0\n",
    "    while True:\n",
    "        percentage_index = random.randint(0, len(PERCENTAGE) - 1)\n",
    "        index = random.randint(0, NUM_OF_SAMPLES - 1)\n",
    "        if (percentage_index, index) not in sample_set:\n",
    "            sample_set.add((percentage_index, index))\n",
    "            break\n",
    "    game = game_list[PERCENTAGE[percentage_index]][index]\n",
    "    game.mark_solution(breadth_first_search_solution[PERCENTAGE[percentage_index]][index])\n",
    "    visualize_samples.append(game)\n",
    "for sample in visualize_samples:\n",
    "    sample.visualize()"
   ]
  },
  {
   "cell_type": "markdown",
   "metadata": {},
   "source": [
    "## **Solve by depth-first search**"
   ]
  },
  {
   "cell_type": "code",
   "execution_count": 152,
   "metadata": {},
   "outputs": [],
   "source": [
    "depth_first_search_time = {}\n",
    "depth_first_search_length = {}\n",
    "depth_first_search_solution = {}\n",
    "for percentage in PERCENTAGE:\n",
    "    depth_first_search_time[percentage] = []\n",
    "    depth_first_search_length[percentage] = []\n",
    "    depth_first_search_solution[percentage] = []"
   ]
  },
  {
   "cell_type": "code",
   "execution_count": 153,
   "metadata": {},
   "outputs": [],
   "source": [
    "for percentage in PERCENTAGE:\n",
    "    games = game_list[percentage]\n",
    "    for test in games:\n",
    "        agent.reset_solution()\n",
    "        test.reset_board()\n",
    "        start_time = time.time()\n",
    "        agent.dfs(test)\n",
    "        depth_first_search_time[percentage].append(time.time() - start_time)\n",
    "        depth_first_search_length[percentage].append(len(agent.solution) - 1)\n",
    "        depth_first_search_solution[percentage].append(agent.solution)"
   ]
  },
  {
   "cell_type": "code",
   "execution_count": 154,
   "metadata": {},
   "outputs": [
    {
     "name": "stdout",
     "output_type": "stream",
     "text": [
      "--------------------------------\n",
      "| S  |  -  |  |  |  |  |  -  | |\n",
      "| .  |  |  |  |  -  -  |  |  - |\n",
      "| .  |  |  -  -  -  |  |  -  - |\n",
      "| .  .  .  -  |  |  |  -  |  | |\n",
      "| |  -  .  |  -  -  -  |  -  - |\n",
      "| -  -  .  .  .  .  .  .  |  | |\n",
      "| |  |  -  |  |  -  |  .  .  | |\n",
      "| |  |  -  |  -  |  |  |  .  - |\n",
      "| |  |  -  |  |  -  -  |  .  | |\n",
      "| -  |  -  |  |  |  -  |  .  E |\n",
      "--------------------------------\n",
      "--------------------------------\n",
      "| S  |  |  -  -  -  -  |  |  - |\n",
      "| .  .  .  .  -  -  |  -  |  | |\n",
      "| -  |  |  .  |  |  |  -  -  | |\n",
      "| -  |  |  .  |  |  |  |  |  - |\n",
      "| -  -  -  .  |  |  |  |  |  | |\n",
      "| -  -  |  .  |  |  -  -  -  - |\n",
      "| |  |  |  .  .  |  -  |  |  | |\n",
      "| |  -  |  -  .  .  .  .  .  | |\n",
      "| -  |  |  -  |  -  -  -  .  | |\n",
      "| |  |  |  -  |  |  |  |  .  E |\n",
      "--------------------------------\n",
      "--------------------------------\n",
      "| S  |  -  |  |  -  -  |  |  - |\n",
      "| .  |  -  |  |  -  -  -  -  | |\n",
      "| .  -  |  -  -  |  -  |  -  - |\n",
      "| .  |  .  .  .  .  .  |  |  | |\n",
      "| .  .  .  |  |  -  .  .  .  . |\n",
      "| -  |  -  |  -  -  |  .  .  . |\n",
      "| |  |  |  -  |  |  -  .  |  - |\n",
      "| |  |  |  |  |  -  -  .  -  | |\n",
      "| -  -  -  -  |  |  |  .  |  - |\n",
      "| |  -  -  -  -  |  |  .  .  E |\n",
      "--------------------------------\n",
      "--------------------------------\n",
      "| S  .  .  .  .  .  |  -  -  - |\n",
      "| -  |  |  |  |  .  .  .  .  | |\n",
      "| -  -  -  -  |  |  |  -  .  - |\n",
      "| |  |  |  -  |  |  -  -  .  | |\n",
      "| -  -  -  |  -  |  |  -  .  | |\n",
      "| |  -  -  -  -  -  -  -  .  - |\n",
      "| -  -  |  -  |  -  -  -  .  | |\n",
      "| |  -  |  -  |  |  -  -  .  . |\n",
      "| -  -  -  -  -  -  -  -  -  . |\n",
      "| -  -  |  |  -  -  -  -  |  E |\n",
      "--------------------------------\n",
      "--------------------------------\n",
      "| S  .  .  .  |  -  |  |  |  - |\n",
      "| -  -  |  .  -  |  .  .  .  . |\n",
      "| |  -  |  .  |  .  .  |  .  . |\n",
      "| |  -  -  .  .  .  |  |  .  | |\n",
      "| -  -  -  -  -  |  -  |  .  | |\n",
      "| -  |  -  |  |  -  -  -  .  . |\n",
      "| |  -  -  -  -  |  -  -  .  . |\n",
      "| -  -  |  -  |  -  |  -  .  | |\n",
      "| -  |  -  -  -  -  -  -  .  . |\n",
      "| |  |  -  -  -  |  -  -  -  E |\n",
      "--------------------------------\n"
     ]
    }
   ],
   "source": [
    "visualize_samples = []\n",
    "sample_set = set()\n",
    "while len(visualize_samples) < NUM_OF_VISUALIZE:\n",
    "    percentage_index, index = 0, 0\n",
    "    while True:\n",
    "        percentage_index = random.randint(0, len(PERCENTAGE) - 1)\n",
    "        index = random.randint(0, NUM_OF_SAMPLES - 1)\n",
    "        if (percentage_index, index) not in sample_set:\n",
    "            sample_set.add((percentage_index, index))\n",
    "            break\n",
    "    game = game_list[PERCENTAGE[percentage_index]][index]\n",
    "    game.mark_solution(depth_first_search_solution[PERCENTAGE[percentage_index]][index])\n",
    "    visualize_samples.append(game)\n",
    "for sample in visualize_samples:\n",
    "    sample.visualize()"
   ]
  },
  {
   "cell_type": "markdown",
   "metadata": {},
   "source": [
    "## **Solve by best-first search**"
   ]
  },
  {
   "cell_type": "code",
   "execution_count": 155,
   "metadata": {},
   "outputs": [],
   "source": [
    "best_first_search_time = {}\n",
    "best_first_search_length = {}\n",
    "best_first_search_solution = {}\n",
    "for percentage in PERCENTAGE:\n",
    "    best_first_search_time[percentage] = []\n",
    "    best_first_search_length[percentage] = []\n",
    "    best_first_search_solution[percentage] = []"
   ]
  },
  {
   "cell_type": "code",
   "execution_count": 156,
   "metadata": {},
   "outputs": [],
   "source": [
    "for percentage in PERCENTAGE:\n",
    "    games = game_list[percentage]\n",
    "    for test in games:\n",
    "        agent.reset_solution()\n",
    "        test.reset_board()\n",
    "        start_time = time.time()\n",
    "        agent.a_star_search(test)\n",
    "        best_first_search_time[percentage].append(time.time() - start_time)\n",
    "        best_first_search_length[percentage].append(len(agent.solution) - 1)\n",
    "        best_first_search_solution[percentage].append(agent.solution)"
   ]
  },
  {
   "cell_type": "code",
   "execution_count": 157,
   "metadata": {},
   "outputs": [
    {
     "name": "stdout",
     "output_type": "stream",
     "text": [
      "--------------------------------\n",
      "| S  |  |  -  |  -  -  |  |  - |\n",
      "| .  .  -  |  -  -  |  |  -  - |\n",
      "| |  .  |  |  -  -  -  -  -  - |\n",
      "| |  .  |  -  -  -  |  -  |  | |\n",
      "| |  .  .  |  -  |  |  -  |  | |\n",
      "| |  -  .  |  |  -  -  |  |  | |\n",
      "| -  -  .  .  .  |  |  |  |  | |\n",
      "| |  |  |  |  .  .  |  |  |  - |\n",
      "| |  |  -  |  |  .  .  .  .  . |\n",
      "| |  |  |  |  |  -  -  -  |  E |\n",
      "--------------------------------\n",
      "--------------------------------\n",
      "| S  .  .  .  |  -  -  -  |  - |\n",
      "| -  |  |  .  .  .  .  .  .  . |\n",
      "| -  -  |  -  -  -  -  -  -  . |\n",
      "| -  |  -  -  -  -  |  -  -  . |\n",
      "| -  -  -  -  -  -  -  -  -  . |\n",
      "| -  -  -  -  -  -  -  -  -  . |\n",
      "| -  -  -  -  -  -  -  -  -  . |\n",
      "| -  -  |  -  -  -  -  -  -  . |\n",
      "| |  -  -  -  -  -  -  -  -  . |\n",
      "| -  -  -  -  -  |  -  -  -  E |\n",
      "--------------------------------\n",
      "--------------------------------\n",
      "| S  .  .  .  .  .  |  |  |  - |\n",
      "| -  |  |  |  -  .  -  |  -  | |\n",
      "| -  -  |  -  -  .  |  |  -  - |\n",
      "| -  |  -  -  |  .  -  -  -  - |\n",
      "| |  -  -  -  -  .  |  |  -  - |\n",
      "| |  |  |  |  -  .  .  -  -  | |\n",
      "| |  -  |  |  -  -  .  |  |  | |\n",
      "| -  |  -  |  |  |  .  -  |  - |\n",
      "| -  -  |  |  |  -  .  |  -  | |\n",
      "| -  -  |  |  |  -  .  .  .  E |\n",
      "--------------------------------\n",
      "--------------------------------\n",
      "| S  |  -  -  |  |  |  |  |  - |\n",
      "| .  .  .  .  -  |  |  -  -  | |\n",
      "| -  |  |  .  -  |  |  |  -  | |\n",
      "| -  |  .  .  -  -  |  -  -  - |\n",
      "| |  -  .  |  |  |  |  -  |  - |\n",
      "| |  -  .  |  -  -  |  -  -  | |\n",
      "| -  |  .  .  .  |  |  |  |  - |\n",
      "| -  -  -  |  .  .  |  -  -  - |\n",
      "| -  -  |  |  -  .  .  .  .  | |\n",
      "| |  -  -  -  |  -  -  |  .  E |\n",
      "--------------------------------\n",
      "--------------------------------\n",
      "| S  .  .  .  .  |  |  -  -  | |\n",
      "| |  -  -  |  .  .  |  -  |  - |\n",
      "| |  |  -  -  |  .  -  -  |  - |\n",
      "| -  -  |  |  -  .  |  -  -  | |\n",
      "| -  -  |  |  |  .  -  -  |  | |\n",
      "| |  -  -  |  .  .  |  -  |  - |\n",
      "| -  |  |  -  .  |  |  -  |  | |\n",
      "| |  |  -  -  .  .  |  |  -  | |\n",
      "| |  |  -  -  -  .  .  .  .  . |\n",
      "| -  -  -  -  -  -  |  |  |  E |\n",
      "--------------------------------\n"
     ]
    }
   ],
   "source": [
    "visualize_samples = []\n",
    "sample_set = set()\n",
    "while len(visualize_samples) < NUM_OF_VISUALIZE:\n",
    "    percentage_index, index = 0, 0\n",
    "    while True:\n",
    "        percentage_index = random.randint(0, len(PERCENTAGE) - 1)\n",
    "        index = random.randint(0, NUM_OF_SAMPLES - 1)\n",
    "        if (percentage_index, index) not in sample_set:\n",
    "            sample_set.add((percentage_index, index))\n",
    "            break\n",
    "    game = game_list[PERCENTAGE[percentage_index]][index]\n",
    "    game.mark_solution(best_first_search_solution[PERCENTAGE[percentage_index]][index])\n",
    "    visualize_samples.append(game)\n",
    "for sample in visualize_samples:\n",
    "    sample.visualize()"
   ]
  },
  {
   "cell_type": "markdown",
   "metadata": {},
   "source": [
    "## **Solve by A\\* search**"
   ]
  },
  {
   "cell_type": "code",
   "execution_count": 158,
   "metadata": {},
   "outputs": [],
   "source": [
    "a_search_time = {}\n",
    "a_search_length = {}\n",
    "a_search_solution = {}\n",
    "for percentage in PERCENTAGE:\n",
    "    a_search_time[percentage] = []\n",
    "    a_search_length[percentage] = []\n",
    "    a_search_solution[percentage] = []"
   ]
  },
  {
   "cell_type": "code",
   "execution_count": 159,
   "metadata": {},
   "outputs": [],
   "source": [
    "for percentage in PERCENTAGE:\n",
    "    games = game_list[percentage]\n",
    "    for test in games:\n",
    "        agent.reset_solution()\n",
    "        test.reset_board()\n",
    "        start_time = time.time()\n",
    "        agent.a_star_search(test)\n",
    "        a_search_time[percentage].append(time.time() - start_time)\n",
    "        a_search_length[percentage].append(len(agent.solution) - 1)\n",
    "        a_search_solution[percentage].append(agent.solution)"
   ]
  },
  {
   "cell_type": "code",
   "execution_count": 160,
   "metadata": {},
   "outputs": [
    {
     "name": "stdout",
     "output_type": "stream",
     "text": [
      "--------------------------------\n",
      "| S  |  -  -  |  |  |  |  |  - |\n",
      "| .  .  .  .  -  |  |  -  -  | |\n",
      "| -  |  |  .  -  |  |  |  -  | |\n",
      "| -  |  .  .  -  -  |  -  -  - |\n",
      "| |  -  .  |  |  |  |  -  |  - |\n",
      "| |  -  .  |  -  -  |  -  -  | |\n",
      "| -  |  .  .  .  |  |  |  |  - |\n",
      "| -  -  -  |  .  .  |  -  -  - |\n",
      "| -  -  |  |  -  .  .  .  .  | |\n",
      "| |  -  -  -  |  -  -  |  .  E |\n",
      "--------------------------------\n",
      "--------------------------------\n",
      "| S  .  .  |  -  |  -  -  -  - |\n",
      "| -  -  .  .  .  |  -  -  -  - |\n",
      "| |  -  -  -  .  .  |  -  -  - |\n",
      "| -  -  |  -  -  .  .  .  .  . |\n",
      "| -  -  -  -  -  |  -  -  -  . |\n",
      "| -  -  -  -  -  -  -  -  -  . |\n",
      "| |  -  -  -  -  -  |  -  -  . |\n",
      "| -  -  -  -  -  -  -  -  -  . |\n",
      "| -  -  -  -  -  -  |  -  -  . |\n",
      "| -  -  -  -  -  -  -  -  -  E |\n",
      "--------------------------------\n",
      "--------------------------------\n",
      "| S  .  .  -  -  |  |  -  -  - |\n",
      "| -  |  .  |  |  -  -  -  -  - |\n",
      "| -  -  .  |  -  -  -  -  -  - |\n",
      "| -  -  .  .  .  .  .  .  .  . |\n",
      "| -  -  -  -  -  -  -  -  -  . |\n",
      "| |  -  -  -  |  -  -  -  -  . |\n",
      "| -  -  -  -  -  |  -  -  -  . |\n",
      "| -  -  -  |  -  -  -  -  -  . |\n",
      "| -  -  -  -  -  -  -  -  -  . |\n",
      "| -  -  -  -  -  -  -  -  -  E |\n",
      "--------------------------------\n",
      "--------------------------------\n",
      "| S  .  .  -  -  -  |  |  -  | |\n",
      "| -  -  .  |  -  -  -  |  -  - |\n",
      "| -  |  .  .  -  |  |  -  -  - |\n",
      "| -  -  |  .  |  -  -  |  |  | |\n",
      "| -  -  |  .  .  .  .  .  -  - |\n",
      "| -  -  -  |  -  |  -  .  -  | |\n",
      "| |  |  -  |  -  -  -  .  |  - |\n",
      "| -  -  |  |  -  -  -  .  .  . |\n",
      "| |  |  -  -  |  -  -  -  -  . |\n",
      "| -  -  |  |  |  -  -  |  -  E |\n",
      "--------------------------------\n",
      "--------------------------------\n",
      "| S  |  -  |  |  -  -  |  |  - |\n",
      "| .  |  -  |  |  -  -  -  -  | |\n",
      "| .  -  |  -  -  |  -  |  -  - |\n",
      "| .  |  .  .  .  .  .  |  |  | |\n",
      "| .  .  .  |  |  -  .  .  -  - |\n",
      "| -  |  -  |  -  -  |  .  -  - |\n",
      "| |  |  |  -  |  |  -  .  |  - |\n",
      "| |  |  |  |  |  -  -  .  -  | |\n",
      "| -  -  -  -  |  |  |  .  |  - |\n",
      "| |  -  -  -  -  |  |  .  .  E |\n",
      "--------------------------------\n"
     ]
    }
   ],
   "source": [
    "visualize_samples = []\n",
    "sample_set = set()\n",
    "while len(visualize_samples) < NUM_OF_VISUALIZE:\n",
    "    percentage_index, index = 0, 0\n",
    "    while True:\n",
    "        percentage_index = random.randint(0, len(PERCENTAGE) - 1)\n",
    "        index = random.randint(0, NUM_OF_SAMPLES - 1)\n",
    "        if (percentage_index, index) not in sample_set:\n",
    "            sample_set.add((percentage_index, index))\n",
    "            break\n",
    "    game = game_list[PERCENTAGE[percentage_index]][index]\n",
    "    game.mark_solution(a_search_solution[PERCENTAGE[percentage_index]][index])\n",
    "    visualize_samples.append(game)\n",
    "for sample in visualize_samples:\n",
    "    sample.visualize()"
   ]
  },
  {
   "cell_type": "markdown",
   "metadata": {},
   "source": [
    "## **Statistics**"
   ]
  },
  {
   "cell_type": "markdown",
   "metadata": {},
   "source": [
    "### Average path length found by algorithms"
   ]
  },
  {
   "cell_type": "code",
   "execution_count": 161,
   "metadata": {},
   "outputs": [
    {
     "data": {
      "text/plain": [
       "<matplotlib.legend.Legend at 0x117dc6eb0>"
      ]
     },
     "execution_count": 161,
     "metadata": {},
     "output_type": "execute_result"
    },
    {
     "data": {
      "image/png": "[encoded data removed]",
      "text/plain": [
       "<Figure size 640x480 with 1 Axes>"
      ]
     },
     "metadata": {},
     "output_type": "display_data"
    }
   ],
   "source": [
    "x = []\n",
    "bfs_path = []\n",
    "dfs_path = []\n",
    "best_first_path = []\n",
    "a_path = []\n",
    "for p in PERCENTAGE:\n",
    "    x.append(p)\n",
    "    bfs_path.append(sum(breadth_first_search_length[p])/len(breadth_first_search_length[p]))\n",
    "    dfs_path.append(sum(depth_first_search_length[p])/len(depth_first_search_length[p]))\n",
    "    best_first_path.append(sum(best_first_search_length[p])/len(best_first_search_length[p]))\n",
    "    a_path.append(sum(a_search_length[p])/len(a_search_length[p]))\n",
    "plt.plot(x, bfs_path, marker='+', label='Breadth-first search', color='red')  \n",
    "plt.plot(x, dfs_path, marker='*', label='Depth-first search', color='green')  \n",
    "plt.plot(x, best_first_path, marker='o', label='Best-first search', color='blue')  \n",
    "plt.plot(x, a_path, marker='s', label='A*', color='orange')  \n",
    "plt.legend(fontsize=12)"
   ]
  },
  {
   "cell_type": "code",
   "execution_count": 162,
   "metadata": {},
   "outputs": [
    {
     "data": {
      "text/plain": [
       "<matplotlib.legend.Legend at 0x117e66c10>"
      ]
     },
     "execution_count": 162,
     "metadata": {},
     "output_type": "execute_result"
    },
    {
     "data": {
      "image/png": "[encoded data removed]",
      "text/plain": [
       "<Figure size 640x480 with 1 Axes>"
      ]
     },
     "metadata": {},
     "output_type": "display_data"
    }
   ],
   "source": [
    "x = []\n",
    "bfs_time = []\n",
    "dfs_time = []\n",
    "best_first_time = []\n",
    "a_time = []\n",
    "for p in PERCENTAGE:\n",
    "    x.append(p)\n",
    "    bfs_time.append(sum(breadth_first_search_time[p])/len(breadth_first_search_time[p]))\n",
    "    dfs_time.append(sum(depth_first_search_time[p])/len(depth_first_search_time[p]))\n",
    "    best_first_time.append(sum(best_first_search_time[p])/len(best_first_search_time[p]))\n",
    "    a_time.append(sum(a_search_time[p])/len(a_search_time[p]))\n",
    "plt.plot(x, bfs_time, marker='+', label='Breadth-first search', color='red')  \n",
    "plt.plot(x, dfs_time, marker='*', label='Depth-first search', color='green')  \n",
    "plt.plot(x, best_first_time, marker='o', label='Best-first search', color='blue') \n",
    "plt.plot(x, a_time, marker='s', label='A*', color='orange')  \n",
    "plt.legend(fontsize=12)"
   ]
  }
 ],
 "metadata": {
  "kernelspec": {
   "display_name": ".venv",
   "language": "python",
   "name": "python3"
  },
  "language_info": {
   "codemirror_mode": {
    "name": "ipython",
    "version": 3
   },
   "file_extension": ".py",
   "mimetype": "text/x-python",
   "name": "python",
   "nbconvert_exporter": "python",
   "pygments_lexer": "ipython3",
   "version": "3.9.20"
  }
 },
 "nbformat": 4,
 "nbformat_minor": 2
}
